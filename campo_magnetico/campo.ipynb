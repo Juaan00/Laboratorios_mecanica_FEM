{
 "cells": [
  {
   "cell_type": "code",
   "execution_count": 23,
   "metadata": {},
   "outputs": [],
   "source": [
    "import pandas as pd\n",
    "import numpy as np\n",
    "import matplotlib.pyplot as plt\n",
    "from scipy.optimize import curve_fit\n",
    "from scipy import stats"
   ]
  },
  {
   "cell_type": "code",
   "execution_count": 36,
   "metadata": {},
   "outputs": [
    {
     "data": {
      "text/plain": [
       "(         m1\n",
       " 0  294.2100\n",
       " 1  367.7625\n",
       " 2  588.4200\n",
       " 3  661.9725\n",
       " 4  956.1825,\n",
       "          m2\n",
       " 0  220.6575\n",
       " 1  294.2100\n",
       " 2  367.7625\n",
       " 3  441.3150\n",
       " 4  514.8675\n",
       " 5  588.4200\n",
       " 6  661.9725)"
      ]
     },
     "execution_count": 36,
     "metadata": {},
     "output_type": "execute_result"
    }
   ],
   "source": [
    "m1 = np.array([30,37.5,60,67.5,97.5])\n",
    "m2 = np.array([22.5,30,37.5,45,52.5,60,67.5])\n",
    "for i in range(len(m1)):\n",
    "    m1[i]=m1[i]*9.807\n",
    "for i in range(len(m2)):\n",
    "    m2[i]=m2[i]*9.807\n",
    "\n",
    "tabla1 = pd.DataFrame({\n",
    "    'm1':m1})\n",
    "tabla2 = pd.DataFrame({\n",
    "    'm2':m2\n",
    "})\n",
    "tabla1,tabla2"
   ]
  },
  {
   "cell_type": "code",
   "execution_count": null,
   "metadata": {},
   "outputs": [],
   "source": [
    "i1 = np.array([1,1.5,2,2.5,3])\n",
    "i2 = np.array({1,1.5,2,2.5,3,3.5,4})\n",
    "l1 = 0.145\n",
    "l2=0.038"
   ]
  }
 ],
 "metadata": {
  "kernelspec": {
   "display_name": "Python 3",
   "language": "python",
   "name": "python3"
  },
  "language_info": {
   "codemirror_mode": {
    "name": "ipython",
    "version": 3
   },
   "file_extension": ".py",
   "mimetype": "text/x-python",
   "name": "python",
   "nbconvert_exporter": "python",
   "pygments_lexer": "ipython3",
   "version": "3.12.1"
  }
 },
 "nbformat": 4,
 "nbformat_minor": 2
}
